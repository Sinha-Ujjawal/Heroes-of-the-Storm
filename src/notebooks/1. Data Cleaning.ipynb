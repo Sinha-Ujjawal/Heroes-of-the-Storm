{
 "cells": [
  {
   "cell_type": "code",
   "execution_count": 73,
   "metadata": {},
   "outputs": [],
   "source": [
    "from sklego.datasets import load_heroes\n",
    "import os"
   ]
  },
  {
   "cell_type": "code",
   "execution_count": 58,
   "metadata": {},
   "outputs": [],
   "source": [
    "heroes = load_heroes(as_frame=True)"
   ]
  },
  {
   "cell_type": "code",
   "execution_count": 59,
   "metadata": {},
   "outputs": [
    {
     "data": {
      "text/plain": [
       "(84, 6)"
      ]
     },
     "execution_count": 59,
     "metadata": {},
     "output_type": "execute_result"
    }
   ],
   "source": [
    "heroes.shape"
   ]
  },
  {
   "cell_type": "code",
   "execution_count": 60,
   "metadata": {},
   "outputs": [
    {
     "data": {
      "text/html": [
       "<div>\n",
       "<style scoped>\n",
       "    .dataframe tbody tr th:only-of-type {\n",
       "        vertical-align: middle;\n",
       "    }\n",
       "\n",
       "    .dataframe tbody tr th {\n",
       "        vertical-align: top;\n",
       "    }\n",
       "\n",
       "    .dataframe thead th {\n",
       "        text-align: right;\n",
       "    }\n",
       "</style>\n",
       "<table border=\"1\" class=\"dataframe\">\n",
       "  <thead>\n",
       "    <tr style=\"text-align: right;\">\n",
       "      <th></th>\n",
       "      <th>name</th>\n",
       "      <th>attack_type</th>\n",
       "      <th>role</th>\n",
       "      <th>health</th>\n",
       "      <th>attack</th>\n",
       "      <th>attack_spd</th>\n",
       "    </tr>\n",
       "  </thead>\n",
       "  <tbody>\n",
       "    <tr>\n",
       "      <th>0</th>\n",
       "      <td>Artanis</td>\n",
       "      <td>Melee</td>\n",
       "      <td>Bruiser</td>\n",
       "      <td>2470.0</td>\n",
       "      <td>111.0</td>\n",
       "      <td>1.00</td>\n",
       "    </tr>\n",
       "    <tr>\n",
       "      <th>1</th>\n",
       "      <td>Chen</td>\n",
       "      <td>Melee</td>\n",
       "      <td>Bruiser</td>\n",
       "      <td>2473.0</td>\n",
       "      <td>90.0</td>\n",
       "      <td>1.11</td>\n",
       "    </tr>\n",
       "    <tr>\n",
       "      <th>2</th>\n",
       "      <td>Dehaka</td>\n",
       "      <td>Melee</td>\n",
       "      <td>Bruiser</td>\n",
       "      <td>2434.0</td>\n",
       "      <td>100.0</td>\n",
       "      <td>1.11</td>\n",
       "    </tr>\n",
       "  </tbody>\n",
       "</table>\n",
       "</div>"
      ],
      "text/plain": [
       "      name attack_type     role  health  attack  attack_spd\n",
       "0  Artanis       Melee  Bruiser  2470.0   111.0        1.00\n",
       "1     Chen       Melee  Bruiser  2473.0    90.0        1.11\n",
       "2   Dehaka       Melee  Bruiser  2434.0   100.0        1.11"
      ]
     },
     "execution_count": 60,
     "metadata": {},
     "output_type": "execute_result"
    }
   ],
   "source": [
    "heroes.head(3)"
   ]
  },
  {
   "cell_type": "code",
   "execution_count": 61,
   "metadata": {},
   "outputs": [
    {
     "data": {
      "text/html": [
       "<div>\n",
       "<style scoped>\n",
       "    .dataframe tbody tr th:only-of-type {\n",
       "        vertical-align: middle;\n",
       "    }\n",
       "\n",
       "    .dataframe tbody tr th {\n",
       "        vertical-align: top;\n",
       "    }\n",
       "\n",
       "    .dataframe thead th {\n",
       "        text-align: right;\n",
       "    }\n",
       "</style>\n",
       "<table border=\"1\" class=\"dataframe\">\n",
       "  <thead>\n",
       "    <tr style=\"text-align: right;\">\n",
       "      <th></th>\n",
       "      <th>health</th>\n",
       "      <th>attack</th>\n",
       "      <th>attack_spd</th>\n",
       "    </tr>\n",
       "  </thead>\n",
       "  <tbody>\n",
       "    <tr>\n",
       "      <th>count</th>\n",
       "      <td>83.000000</td>\n",
       "      <td>83.000000</td>\n",
       "      <td>83.000000</td>\n",
       "    </tr>\n",
       "    <tr>\n",
       "      <th>mean</th>\n",
       "      <td>1855.665060</td>\n",
       "      <td>90.530120</td>\n",
       "      <td>1.299639</td>\n",
       "    </tr>\n",
       "    <tr>\n",
       "      <th>std</th>\n",
       "      <td>501.885906</td>\n",
       "      <td>40.198998</td>\n",
       "      <td>0.956165</td>\n",
       "    </tr>\n",
       "    <tr>\n",
       "      <th>min</th>\n",
       "      <td>685.000000</td>\n",
       "      <td>15.000000</td>\n",
       "      <td>0.670000</td>\n",
       "    </tr>\n",
       "    <tr>\n",
       "      <th>25%</th>\n",
       "      <td>1485.000000</td>\n",
       "      <td>65.500000</td>\n",
       "      <td>1.000000</td>\n",
       "    </tr>\n",
       "    <tr>\n",
       "      <th>50%</th>\n",
       "      <td>1764.000000</td>\n",
       "      <td>85.000000</td>\n",
       "      <td>1.110000</td>\n",
       "    </tr>\n",
       "    <tr>\n",
       "      <th>75%</th>\n",
       "      <td>2135.000000</td>\n",
       "      <td>107.500000</td>\n",
       "      <td>1.250000</td>\n",
       "    </tr>\n",
       "    <tr>\n",
       "      <th>max</th>\n",
       "      <td>3060.000000</td>\n",
       "      <td>261.000000</td>\n",
       "      <td>8.000000</td>\n",
       "    </tr>\n",
       "  </tbody>\n",
       "</table>\n",
       "</div>"
      ],
      "text/plain": [
       "            health      attack  attack_spd\n",
       "count    83.000000   83.000000   83.000000\n",
       "mean   1855.665060   90.530120    1.299639\n",
       "std     501.885906   40.198998    0.956165\n",
       "min     685.000000   15.000000    0.670000\n",
       "25%    1485.000000   65.500000    1.000000\n",
       "50%    1764.000000   85.000000    1.110000\n",
       "75%    2135.000000  107.500000    1.250000\n",
       "max    3060.000000  261.000000    8.000000"
      ]
     },
     "execution_count": 61,
     "metadata": {},
     "output_type": "execute_result"
    }
   ],
   "source": [
    "heroes.describe()"
   ]
  },
  {
   "cell_type": "code",
   "execution_count": 62,
   "metadata": {},
   "outputs": [
    {
     "data": {
      "text/plain": [
       "name           0\n",
       "attack_type    0\n",
       "role           0\n",
       "health         1\n",
       "attack         1\n",
       "attack_spd     1\n",
       "dtype: int64"
      ]
     },
     "execution_count": 62,
     "metadata": {},
     "output_type": "execute_result"
    }
   ],
   "source": [
    "heroes.isna().sum()"
   ]
  },
  {
   "cell_type": "code",
   "execution_count": 63,
   "metadata": {},
   "outputs": [
    {
     "data": {
      "text/html": [
       "<div>\n",
       "<style scoped>\n",
       "    .dataframe tbody tr th:only-of-type {\n",
       "        vertical-align: middle;\n",
       "    }\n",
       "\n",
       "    .dataframe tbody tr th {\n",
       "        vertical-align: top;\n",
       "    }\n",
       "\n",
       "    .dataframe thead th {\n",
       "        text-align: right;\n",
       "    }\n",
       "</style>\n",
       "<table border=\"1\" class=\"dataframe\">\n",
       "  <thead>\n",
       "    <tr style=\"text-align: right;\">\n",
       "      <th></th>\n",
       "      <th>name</th>\n",
       "      <th>attack_type</th>\n",
       "      <th>role</th>\n",
       "      <th>health</th>\n",
       "      <th>attack</th>\n",
       "      <th>attack_spd</th>\n",
       "    </tr>\n",
       "  </thead>\n",
       "  <tbody>\n",
       "    <tr>\n",
       "      <th>45</th>\n",
       "      <td>Gall</td>\n",
       "      <td>Ranged</td>\n",
       "      <td>Ranged Assassin</td>\n",
       "      <td>NaN</td>\n",
       "      <td>NaN</td>\n",
       "      <td>NaN</td>\n",
       "    </tr>\n",
       "  </tbody>\n",
       "</table>\n",
       "</div>"
      ],
      "text/plain": [
       "    name attack_type             role  health  attack  attack_spd\n",
       "45  Gall      Ranged  Ranged Assassin     NaN     NaN         NaN"
      ]
     },
     "execution_count": 63,
     "metadata": {},
     "output_type": "execute_result"
    }
   ],
   "source": [
    "heroes[heroes[\"health\"].isnull()]"
   ]
  },
  {
   "cell_type": "code",
   "execution_count": 64,
   "metadata": {},
   "outputs": [
    {
     "data": {
      "text/html": [
       "<div>\n",
       "<style scoped>\n",
       "    .dataframe tbody tr th:only-of-type {\n",
       "        vertical-align: middle;\n",
       "    }\n",
       "\n",
       "    .dataframe tbody tr th {\n",
       "        vertical-align: top;\n",
       "    }\n",
       "\n",
       "    .dataframe thead th {\n",
       "        text-align: right;\n",
       "    }\n",
       "</style>\n",
       "<table border=\"1\" class=\"dataframe\">\n",
       "  <thead>\n",
       "    <tr style=\"text-align: right;\">\n",
       "      <th></th>\n",
       "      <th>name</th>\n",
       "      <th>attack_type</th>\n",
       "      <th>role</th>\n",
       "      <th>health</th>\n",
       "      <th>attack</th>\n",
       "      <th>attack_spd</th>\n",
       "    </tr>\n",
       "  </thead>\n",
       "  <tbody>\n",
       "    <tr>\n",
       "      <th>40</th>\n",
       "      <td>Azmodan</td>\n",
       "      <td>Ranged</td>\n",
       "      <td>Ranged Assassin</td>\n",
       "      <td>2464.2</td>\n",
       "      <td>85.0</td>\n",
       "      <td>1.00</td>\n",
       "    </tr>\n",
       "    <tr>\n",
       "      <th>41</th>\n",
       "      <td>Cassia</td>\n",
       "      <td>Ranged</td>\n",
       "      <td>Ranged Assassin</td>\n",
       "      <td>1840.0</td>\n",
       "      <td>130.0</td>\n",
       "      <td>1.33</td>\n",
       "    </tr>\n",
       "    <tr>\n",
       "      <th>42</th>\n",
       "      <td>Chromie</td>\n",
       "      <td>Ranged</td>\n",
       "      <td>Ranged Assassin</td>\n",
       "      <td>1390.0</td>\n",
       "      <td>82.0</td>\n",
       "      <td>1.00</td>\n",
       "    </tr>\n",
       "    <tr>\n",
       "      <th>43</th>\n",
       "      <td>Falstad</td>\n",
       "      <td>Ranged</td>\n",
       "      <td>Ranged Assassin</td>\n",
       "      <td>1365.0</td>\n",
       "      <td>104.0</td>\n",
       "      <td>1.43</td>\n",
       "    </tr>\n",
       "    <tr>\n",
       "      <th>44</th>\n",
       "      <td>Fenix</td>\n",
       "      <td>Ranged</td>\n",
       "      <td>Ranged Assassin</td>\n",
       "      <td>1140.0</td>\n",
       "      <td>83.0</td>\n",
       "      <td>0.74</td>\n",
       "    </tr>\n",
       "  </tbody>\n",
       "</table>\n",
       "</div>"
      ],
      "text/plain": [
       "       name attack_type             role  health  attack  attack_spd\n",
       "40  Azmodan      Ranged  Ranged Assassin  2464.2    85.0        1.00\n",
       "41   Cassia      Ranged  Ranged Assassin  1840.0   130.0        1.33\n",
       "42  Chromie      Ranged  Ranged Assassin  1390.0    82.0        1.00\n",
       "43  Falstad      Ranged  Ranged Assassin  1365.0   104.0        1.43\n",
       "44    Fenix      Ranged  Ranged Assassin  1140.0    83.0        0.74"
      ]
     },
     "execution_count": 64,
     "metadata": {},
     "output_type": "execute_result"
    }
   ],
   "source": [
    "heroes[heroes[\"role\"] == \"Ranged Assassin\"].head()"
   ]
  },
  {
   "cell_type": "code",
   "execution_count": 65,
   "metadata": {},
   "outputs": [
    {
     "data": {
      "text/html": [
       "<div>\n",
       "<style scoped>\n",
       "    .dataframe tbody tr th:only-of-type {\n",
       "        vertical-align: middle;\n",
       "    }\n",
       "\n",
       "    .dataframe tbody tr th {\n",
       "        vertical-align: top;\n",
       "    }\n",
       "\n",
       "    .dataframe thead th {\n",
       "        text-align: right;\n",
       "    }\n",
       "</style>\n",
       "<table border=\"1\" class=\"dataframe\">\n",
       "  <thead>\n",
       "    <tr style=\"text-align: right;\">\n",
       "      <th></th>\n",
       "      <th>name</th>\n",
       "      <th>attack_type</th>\n",
       "      <th>role</th>\n",
       "      <th>health</th>\n",
       "      <th>attack</th>\n",
       "      <th>attack_spd</th>\n",
       "    </tr>\n",
       "  </thead>\n",
       "  <tbody>\n",
       "    <tr>\n",
       "      <th>75</th>\n",
       "      <td>Cho</td>\n",
       "      <td>Melee</td>\n",
       "      <td>Tank</td>\n",
       "      <td>2850.0</td>\n",
       "      <td>130.0</td>\n",
       "      <td>0.91</td>\n",
       "    </tr>\n",
       "  </tbody>\n",
       "</table>\n",
       "</div>"
      ],
      "text/plain": [
       "   name attack_type  role  health  attack  attack_spd\n",
       "75  Cho       Melee  Tank  2850.0   130.0        0.91"
      ]
     },
     "execution_count": 65,
     "metadata": {},
     "output_type": "execute_result"
    }
   ],
   "source": [
    "heroes[heroes[\"name\"] == \"Cho\"]"
   ]
  },
  {
   "cell_type": "code",
   "execution_count": 66,
   "metadata": {},
   "outputs": [
    {
     "data": {
      "text/html": [
       "<div>\n",
       "<style scoped>\n",
       "    .dataframe tbody tr th:only-of-type {\n",
       "        vertical-align: middle;\n",
       "    }\n",
       "\n",
       "    .dataframe tbody tr th {\n",
       "        vertical-align: top;\n",
       "    }\n",
       "\n",
       "    .dataframe thead th {\n",
       "        text-align: right;\n",
       "    }\n",
       "</style>\n",
       "<table border=\"1\" class=\"dataframe\">\n",
       "  <thead>\n",
       "    <tr style=\"text-align: right;\">\n",
       "      <th></th>\n",
       "      <th>name</th>\n",
       "      <th>attack_type</th>\n",
       "      <th>role</th>\n",
       "      <th>health</th>\n",
       "      <th>attack</th>\n",
       "      <th>attack_spd</th>\n",
       "    </tr>\n",
       "  </thead>\n",
       "  <tbody>\n",
       "    <tr>\n",
       "      <th>25</th>\n",
       "      <td>Stukov</td>\n",
       "      <td>Melee</td>\n",
       "      <td>Healer</td>\n",
       "      <td>1765.0</td>\n",
       "      <td>261.0</td>\n",
       "      <td>0.67</td>\n",
       "    </tr>\n",
       "    <tr>\n",
       "      <th>48</th>\n",
       "      <td>Hanzo</td>\n",
       "      <td>Ranged</td>\n",
       "      <td>Ranged Assassin</td>\n",
       "      <td>1323.0</td>\n",
       "      <td>198.0</td>\n",
       "      <td>0.67</td>\n",
       "    </tr>\n",
       "  </tbody>\n",
       "</table>\n",
       "</div>"
      ],
      "text/plain": [
       "      name attack_type             role  health  attack  attack_spd\n",
       "25  Stukov       Melee           Healer  1765.0   261.0        0.67\n",
       "48   Hanzo      Ranged  Ranged Assassin  1323.0   198.0        0.67"
      ]
     },
     "execution_count": 66,
     "metadata": {},
     "output_type": "execute_result"
    }
   ],
   "source": [
    "heroes[heroes[\"attack\"] > 180]"
   ]
  },
  {
   "cell_type": "code",
   "execution_count": 67,
   "metadata": {},
   "outputs": [],
   "source": [
    "gall_health = 2850\n",
    "gall_attack = 198\n",
    "gall_attack_spd = 0.91"
   ]
  },
  {
   "cell_type": "code",
   "execution_count": 68,
   "metadata": {},
   "outputs": [],
   "source": [
    "heroes.iloc[45, 3:] = [gall_health, gall_attack, gall_attack_spd]"
   ]
  },
  {
   "cell_type": "code",
   "execution_count": 70,
   "metadata": {},
   "outputs": [
    {
     "data": {
      "text/html": [
       "<div>\n",
       "<style scoped>\n",
       "    .dataframe tbody tr th:only-of-type {\n",
       "        vertical-align: middle;\n",
       "    }\n",
       "\n",
       "    .dataframe tbody tr th {\n",
       "        vertical-align: top;\n",
       "    }\n",
       "\n",
       "    .dataframe thead th {\n",
       "        text-align: right;\n",
       "    }\n",
       "</style>\n",
       "<table border=\"1\" class=\"dataframe\">\n",
       "  <thead>\n",
       "    <tr style=\"text-align: right;\">\n",
       "      <th></th>\n",
       "      <th>name</th>\n",
       "      <th>attack_type</th>\n",
       "      <th>role</th>\n",
       "      <th>health</th>\n",
       "      <th>attack</th>\n",
       "      <th>attack_spd</th>\n",
       "    </tr>\n",
       "  </thead>\n",
       "  <tbody>\n",
       "    <tr>\n",
       "      <th>0</th>\n",
       "      <td>Artanis</td>\n",
       "      <td>Melee</td>\n",
       "      <td>Bruiser</td>\n",
       "      <td>2470.0</td>\n",
       "      <td>111.0</td>\n",
       "      <td>1.00</td>\n",
       "    </tr>\n",
       "    <tr>\n",
       "      <th>1</th>\n",
       "      <td>Chen</td>\n",
       "      <td>Melee</td>\n",
       "      <td>Bruiser</td>\n",
       "      <td>2473.0</td>\n",
       "      <td>90.0</td>\n",
       "      <td>1.11</td>\n",
       "    </tr>\n",
       "    <tr>\n",
       "      <th>2</th>\n",
       "      <td>Dehaka</td>\n",
       "      <td>Melee</td>\n",
       "      <td>Bruiser</td>\n",
       "      <td>2434.0</td>\n",
       "      <td>100.0</td>\n",
       "      <td>1.11</td>\n",
       "    </tr>\n",
       "    <tr>\n",
       "      <th>3</th>\n",
       "      <td>Imperius</td>\n",
       "      <td>Melee</td>\n",
       "      <td>Bruiser</td>\n",
       "      <td>2450.0</td>\n",
       "      <td>122.0</td>\n",
       "      <td>0.83</td>\n",
       "    </tr>\n",
       "    <tr>\n",
       "      <th>4</th>\n",
       "      <td>Leoric</td>\n",
       "      <td>Melee</td>\n",
       "      <td>Bruiser</td>\n",
       "      <td>2550.0</td>\n",
       "      <td>109.0</td>\n",
       "      <td>0.77</td>\n",
       "    </tr>\n",
       "    <tr>\n",
       "      <th>...</th>\n",
       "      <td>...</td>\n",
       "      <td>...</td>\n",
       "      <td>...</td>\n",
       "      <td>...</td>\n",
       "      <td>...</td>\n",
       "      <td>...</td>\n",
       "    </tr>\n",
       "    <tr>\n",
       "      <th>79</th>\n",
       "      <td>Johanna</td>\n",
       "      <td>Melee</td>\n",
       "      <td>Tank</td>\n",
       "      <td>2700.0</td>\n",
       "      <td>99.0</td>\n",
       "      <td>0.91</td>\n",
       "    </tr>\n",
       "    <tr>\n",
       "      <th>80</th>\n",
       "      <td>Mal'Ganis</td>\n",
       "      <td>Melee</td>\n",
       "      <td>Tank</td>\n",
       "      <td>2600.0</td>\n",
       "      <td>100.0</td>\n",
       "      <td>0.91</td>\n",
       "    </tr>\n",
       "    <tr>\n",
       "      <th>81</th>\n",
       "      <td>Muradin</td>\n",
       "      <td>Melee</td>\n",
       "      <td>Tank</td>\n",
       "      <td>2765.0</td>\n",
       "      <td>88.0</td>\n",
       "      <td>1.11</td>\n",
       "    </tr>\n",
       "    <tr>\n",
       "      <th>82</th>\n",
       "      <td>Stitches</td>\n",
       "      <td>Melee</td>\n",
       "      <td>Tank</td>\n",
       "      <td>3060.0</td>\n",
       "      <td>85.0</td>\n",
       "      <td>0.91</td>\n",
       "    </tr>\n",
       "    <tr>\n",
       "      <th>83</th>\n",
       "      <td>Tyrael</td>\n",
       "      <td>Melee</td>\n",
       "      <td>Tank</td>\n",
       "      <td>2517.0</td>\n",
       "      <td>78.0</td>\n",
       "      <td>1.25</td>\n",
       "    </tr>\n",
       "  </tbody>\n",
       "</table>\n",
       "<p>84 rows × 6 columns</p>\n",
       "</div>"
      ],
      "text/plain": [
       "         name attack_type     role  health  attack  attack_spd\n",
       "0     Artanis       Melee  Bruiser  2470.0   111.0        1.00\n",
       "1        Chen       Melee  Bruiser  2473.0    90.0        1.11\n",
       "2      Dehaka       Melee  Bruiser  2434.0   100.0        1.11\n",
       "3    Imperius       Melee  Bruiser  2450.0   122.0        0.83\n",
       "4      Leoric       Melee  Bruiser  2550.0   109.0        0.77\n",
       "..        ...         ...      ...     ...     ...         ...\n",
       "79    Johanna       Melee     Tank  2700.0    99.0        0.91\n",
       "80  Mal'Ganis       Melee     Tank  2600.0   100.0        0.91\n",
       "81    Muradin       Melee     Tank  2765.0    88.0        1.11\n",
       "82   Stitches       Melee     Tank  3060.0    85.0        0.91\n",
       "83     Tyrael       Melee     Tank  2517.0    78.0        1.25\n",
       "\n",
       "[84 rows x 6 columns]"
      ]
     },
     "execution_count": 70,
     "metadata": {},
     "output_type": "execute_result"
    }
   ],
   "source": [
    "heroes"
   ]
  },
  {
   "cell_type": "code",
   "execution_count": 71,
   "metadata": {},
   "outputs": [
    {
     "data": {
      "text/plain": [
       "name           0\n",
       "attack_type    0\n",
       "role           0\n",
       "health         0\n",
       "attack         0\n",
       "attack_spd     0\n",
       "dtype: int64"
      ]
     },
     "execution_count": 71,
     "metadata": {},
     "output_type": "execute_result"
    }
   ],
   "source": [
    "heroes.isna().sum()"
   ]
  },
  {
   "cell_type": "code",
   "execution_count": 74,
   "metadata": {},
   "outputs": [],
   "source": [
    "data_folder = \"../data\"\n",
    "\n",
    "if not os.path.exists(data_folder):\n",
    "    os.makedirs(data_folder)\n",
    "\n",
    "heroes.to_csv(os.path.join(data_folder, \"heroes.csv\"), index=False)"
   ]
  },
  {
   "cell_type": "code",
   "execution_count": null,
   "metadata": {},
   "outputs": [],
   "source": []
  }
 ],
 "metadata": {
  "kernelspec": {
   "display_name": "hots",
   "language": "python",
   "name": "python3"
  },
  "language_info": {
   "codemirror_mode": {
    "name": "ipython",
    "version": 3
   },
   "file_extension": ".py",
   "mimetype": "text/x-python",
   "name": "python",
   "nbconvert_exporter": "python",
   "pygments_lexer": "ipython3",
   "version": "3.7.6"
  }
 },
 "nbformat": 4,
 "nbformat_minor": 4
}
